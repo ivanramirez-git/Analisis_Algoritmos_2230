{
 "cells": [
  {
   "cell_type": "markdown",
   "metadata": {},
   "source": [
    "# Laboratorio 4: Análisis de complejidad algorítmica\n",
    "\n",
    "## Ejercicio 1\n",
    "\n",
    "1. Considere el algoritmo de ordenamiento conocido como Blubble Sort:\n",
    "\n",
    "<!-- Bash -->\n",
    "```bash\n",
    "        Procedure BubbleSort(array A, integer n)\n",
    "            for(j = 1; j <= n;j++)\n",
    "                for(k = n; k >= j; k--)\n",
    "                    if(A[k] < A[k-1])\n",
    "                        temp = A[k]\n",
    "                        A[k] = A[k-1]\n",
    "                        A[k-1] = temp\n",
    "                    end if\n",
    "                end for\n",
    "            end for\n",
    "        end procedure\n",
    "```\n",
    "\n",
    "- Analizar la complejidad del algoritmo.\n",
    "\n",
    "### Solución\n",
    "    "
   ]
  },
  {
   "cell_type": "code",
   "execution_count": 9,
   "metadata": {},
   "outputs": [],
   "source": [
    "# Algoritmo\n",
    "import random\n",
    "# Medidor de tiempos\n",
    "import time\n",
    "# Matplotlib\n",
    "import matplotlib.pyplot as plt\n",
    "# Numpy\n",
    "import numpy as np\n",
    "\n",
    "\n",
    "# Ordenamiento burbuja\n",
    "def BubbleSort(A, n):\n",
    "    for i in range(n):\n",
    "        for j in range(0, n-i-1):\n",
    "            if A[j] > A[j+1]:\n",
    "                A[j], A[j+1] = A[j+1], A[j]\n",
    "    return A\n",
    "\n",
    "# Tabla de tiempos\n",
    "# Cabecera: No, Descripción, Tiempo inicial (s), Tiempo final (s), Diferencia (s)\n",
    "tabla_tiempos = [[\"No\", \"Descripción\", \"Tiempo inicial (s)\", \"Tiempo final (s)\", \"Diferencia (s)\"]]\n",
    "A = []\n",
    "n = 10000"
   ]
  },
  {
   "cell_type": "markdown",
   "metadata": {},
   "source": [
    "- Caso promedio: Cuando los datos están desordenados aleatoriamente."
   ]
  },
  {
   "cell_type": "code",
   "execution_count": 10,
   "metadata": {},
   "outputs": [],
   "source": [
    "# Caso promedio\n",
    "for i in range(n):\n",
    "    A.append(random.randint(1, n))\n",
    "\n",
    "time_0 = time.time()\n",
    "BubbleSort(A, n)\n",
    "time_1 = time.time()\n",
    "A = []\n",
    "# Agregar a la tabla de tiempos\n",
    "tabla_tiempos.append([\"1\", \"Caso Promedio\", time_0, time_1, time_1 - time_0])"
   ]
  },
  {
   "cell_type": "markdown",
   "metadata": {},
   "source": [
    "- Mejor caso: Cuando los datos están ordenados de menor a mayor."
   ]
  },
  {
   "cell_type": "code",
   "execution_count": 11,
   "metadata": {},
   "outputs": [],
   "source": [
    "# Mejor caso\n",
    "for i in range(n):\n",
    "    A.append(i+1)\n",
    "\n",
    "time_0 = time.time()\n",
    "BubbleSort(A, n)\n",
    "time_1 = time.time()\n",
    "A = []\n",
    "# Agregar a la tabla de tiempos\n",
    "tabla_tiempos.append([\"2\", \"Mejor Caso\", time_0, time_1, time_1 - time_0])"
   ]
  },
  {
   "cell_type": "markdown",
   "metadata": {},
   "source": [
    "- Peor caso: Cuando los datos están de mayor a menor"
   ]
  },
  {
   "cell_type": "code",
   "execution_count": 12,
   "metadata": {},
   "outputs": [],
   "source": [
    "# Peor caso\n",
    "for i in range(n):\n",
    "    A.append(n-i)\n",
    "\n",
    "time_0 = time.time()\n",
    "BubbleSort(A, n)\n",
    "time_1 = time.time()\n",
    "A = []\n",
    "# Agregar a la tabla de tiempos\n",
    "tabla_tiempos.append([\"3\", \"Peor Caso\", time_0, time_1, time_1 - time_0])"
   ]
  },
  {
   "cell_type": "markdown",
   "metadata": {},
   "source": [
    "- Resultados:"
   ]
  },
  {
   "cell_type": "code",
   "execution_count": 13,
   "metadata": {},
   "outputs": [
    {
     "name": "stdout",
     "output_type": "stream",
     "text": [
      "No Descripción Tiempo inicial (s) Tiempo final (s) Diferencia (s) \n",
      "1 Caso Promedio 1660744134.047807 1660744142.9665265 8.91871953010559 \n",
      "2 Mejor Caso 1660744143.0725317 1660744147.004615 3.9320833683013916 \n",
      "3 Peor Caso 1660744147.11453 1660744160.1108003 12.996270179748535 \n"
     ]
    }
   ],
   "source": [
    "# Imprimir tabla de tiempos\n",
    "for i in range(len(tabla_tiempos)):\n",
    "    for j in range(len(tabla_tiempos[i])):\n",
    "        print(tabla_tiempos[i][j], end=\" \")\n",
    "    print()"
   ]
  },
  {
   "cell_type": "markdown",
   "metadata": {},
   "source": [
    "- Variando el número de elementos para capturar elementos para gráficas"
   ]
  },
  {
   "cell_type": "code",
   "execution_count": 14,
   "metadata": {},
   "outputs": [],
   "source": [
    "n_0 = 1000\n",
    "n_f = 10000\n",
    "paso = 1000\n",
    "tabla_tiempos_caso_promedio = [[\"Tiempo (s)\",\"Numero de datos\"]]\n",
    "for i in range(n_0, n_f, paso):\n",
    "    A = []\n",
    "    for j in range(i):\n",
    "        A.append(random.randint(1, n))\n",
    "    time_0 = time.time()\n",
    "    BubbleSort(A, i)\n",
    "    time_1 = time.time()\n",
    "    tabla_tiempos_caso_promedio.append([time_1 - time_0, i])"
   ]
  },
  {
   "cell_type": "markdown",
   "metadata": {},
   "source": [
    "- Gráfica del caso promedio"
   ]
  },
  {
   "cell_type": "code",
   "execution_count": 15,
   "metadata": {},
   "outputs": [
    {
     "data": {
      "image/png": "[encoded data removed]",
      "text/plain": [
       "<Figure size 432x288 with 1 Axes>"
      ]
     },
     "metadata": {
      "needs_background": "light"
     },
     "output_type": "display_data"
    }
   ],
   "source": [
    "\n",
    "# Gráfica de la tabla donde el eje x es el numero de datos y el eje y son los tiempos\n",
    "plt.plot(tabla_tiempos_caso_promedio[1:])\n",
    "plt.ylabel('Numero de datos')\n",
    "plt.xlabel('Tiempo (s)')\n",
    "plt.title('Tiempo de ejecución del algoritmo')\n",
    "plt.show()\n"
   ]
  }
 ],
 "metadata": {
  "kernelspec": {
   "display_name": "Python 3.10.3 64-bit",
   "language": "python",
   "name": "python3"
  },
  "language_info": {
   "codemirror_mode": {
    "name": "ipython",
    "version": 3
   },
   "file_extension": ".py",
   "mimetype": "text/x-python",
   "name": "python",
   "nbconvert_exporter": "python",
   "pygments_lexer": "ipython3",
   "version": "3.10.3"
  },
  "orig_nbformat": 4,
  "vscode": {
   "interpreter": {
    "hash": "369f2c481f4da34e4445cda3fffd2e751bd1c4d706f27375911949ba6bb62e1c"
   }
  }
 },
 "nbformat": 4,
 "nbformat_minor": 2
}
